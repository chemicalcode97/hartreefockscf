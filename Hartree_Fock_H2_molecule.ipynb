{
  "nbformat": 4,
  "nbformat_minor": 0,
  "metadata": {
    "colab": {
      "name": "Hartree_Fock.ipynb",
      "provenance": [],
      "collapsed_sections": [],
      "authorship_tag": "ABX9TyNRvg+hLGkYZAHY5Q9AZZnv",
      "include_colab_link": true
    },
    "kernelspec": {
      "name": "python3",
      "display_name": "Python 3"
    },
    "language_info": {
      "name": "python"
    }
  },
  "cells": [
    {
      "cell_type": "markdown",
      "metadata": {
        "id": "view-in-github",
        "colab_type": "text"
      },
      "source": [
        "<a href=\"https://colab.research.google.com/github/chemicalcode97/hartreefockscf/blob/main/Hartree_Fock_H2_molecule.ipynb\" target=\"_parent\"><img src=\"https://colab.research.google.com/assets/colab-badge.svg\" alt=\"Open In Colab\"/></a>"
      ]
    },
    {
      "cell_type": "markdown",
      "source": [
        "# **Hartree Fock for H2 using STO-3G**"
      ],
      "metadata": {
        "id": "yydUWUkXuzXe"
      }
    },
    {
      "cell_type": "markdown",
      "source": [
        "Computing Overlap integral \"S\""
      ],
      "metadata": {
        "id": "p8KZnrKdMlyI"
      }
    },
    {
      "cell_type": "code",
      "execution_count": 1,
      "metadata": {
        "id": "7t2rqCjAMibf"
      },
      "outputs": [],
      "source": [
        "import numpy as np\n",
        "import math\n",
        "from scipy import special \n",
        "from scipy import linalg"
      ]
    },
    {
      "cell_type": "code",
      "source": [
        "#class for primitive gaussian\n",
        "class primitive_gaussian():\n",
        "  def __init__(self, alpha, coeff, coordinates, l1, l2, l3): #l1 l2 l3 are angular momentum number\n",
        "    self.alpha = alpha\n",
        "    self.coeff = coeff\n",
        "    self.coordinates = np.array(coordinates)\n",
        "    self.A = (2.0*alpha/math.pi)**0.75"
      ],
      "metadata": {
        "id": "VW8WTSsqw96-"
      },
      "execution_count": 2,
      "outputs": []
    },
    {
      "cell_type": "code",
      "source": [
        "def overlap(molecule):\n",
        "  nbasis = len(molecule)\n",
        "\n",
        "  S = np.zeros([nbasis, nbasis])\n",
        "\n",
        "  for i in range(nbasis):\n",
        "    for j in range(nbasis):\n",
        "\n",
        "      nprimitives_i = len(molecule[i])\n",
        "      nprimitives_j = len(molecule[j])\n",
        "\n",
        "      for k in range(nprimitives_i):\n",
        "        for l in range(nprimitives_j):\n",
        "          \n",
        "          N = molecule[i][k].A * molecule[j][l].A                      #the overlap integral is calculated using Gaussian Product theorem\n",
        "          p = molecule[i][k].alpha + molecule[j][l].alpha\n",
        "          q = molecule[i][k].alpha * molecule[j][l].alpha / p\n",
        "          Q = molecule[i][k].coordinates - molecule[j][l].coordinates\n",
        "          Q2 = np.dot(Q,Q)\n",
        "\n",
        "          S[i,j] += N * molecule[i][k].coeff * molecule[j][l].coeff * math.exp(-q * Q2) * (math.pi/p)**(3/2)  #the last term (math.pi/p)**(3/2) is due to 3D integration \n",
        "\n",
        "\n",
        "  return S\n"
      ],
      "metadata": {
        "id": "gnwmMXco-sii"
      },
      "execution_count": 3,
      "outputs": []
    },
    {
      "cell_type": "code",
      "source": [
        "#STO-3G basis for 1s orbital on H1 (taken from https://www.basissetexchange.org/)\n",
        "#H1_pg1a = primitive_gaussian(0.3425250914E+01, 0.1543289673E+00, [0,0,0], 0, 0, 0) # for s orbital l1 l2 l3 are all zero\n",
        "#H1_pg1b = primitive_gaussian(0.6239137298E+00, 0.5353281423E+00, [0,0,0], 0, 0, 0)\n",
        "#H1_pg1c = primitive_gaussian(0.1688554040E+00, 0.4446345422E+00, [0,0,0], 0, 0, 0)\n",
        "\n",
        "#STO-3G basis for 1s orbital on H2\n",
        "#H2_pg1a = primitive_gaussian(0.3425250914E+01, 0.1543289673E+00, [1.4,0,0], 0, 0, 0) \n",
        "#H2_pg1b = primitive_gaussian(0.6239137298E+00, 0.5353281423E+00, [1.4,0,0], 0, 0, 0)\n",
        "#H2_pg1c = primitive_gaussian(0.1688554040E+00, 0.4446345422E+00, [1.4,0,0], 0, 0, 0)\n",
        "\n",
        "#H1_1s=[H1_pg1a, H1_pg1b, H1_pg1c] #each 1s of H can be represented as a contracted gaussian fuction(CGF) and CGF are linear combination of primitive gaussian(PG)\n",
        "#H2_1s=[H2_pg1a, H2_pg1b, H2_pg1c]\n",
        "\n",
        "#molecule = [H1_1s,H2_1s]  #a H2 molecule consist of two 1s orbital each from two H \n",
        "\n",
        "#overlap(molecule)"
      ],
      "metadata": {
        "id": "2FR5pLwD88IP"
      },
      "execution_count": 4,
      "outputs": []
    },
    {
      "cell_type": "markdown",
      "source": [
        "Computing Kinetic Energy term"
      ],
      "metadata": {
        "id": "gmTJAejAv4iE"
      }
    },
    {
      "cell_type": "code",
      "source": [
        "def kinetic(molecule):\n",
        "    \n",
        "    nbasis = len(molecule)\n",
        "    \n",
        "    T = np.zeros([nbasis, nbasis])\n",
        "    \n",
        "    for i in range(nbasis):\n",
        "        for j in range(nbasis):\n",
        "\n",
        "            nprimitives_i = len(molecule[i])\n",
        "            nprimitives_j = len(molecule[j])\n",
        "            \n",
        "            for k in range(nprimitives_i):\n",
        "                for l in range(nprimitives_j):\n",
        "\n",
        "                    N = molecule[i][k].A * molecule[j][l].A\n",
        "                    cacb = molecule[i][k].coeff * molecule[j][l].coeff\n",
        "                    \n",
        "                    p   = molecule[i][k].alpha + molecule[j][l].alpha\n",
        "                    P   = molecule[i][k].alpha*molecule[i][k].coordinates +  molecule[j][l].alpha*molecule[j][l].coordinates\n",
        "                    Pp  = P/p\n",
        "                    PG  = Pp - molecule[j][l].coordinates\n",
        "                    PGx2 = PG[0]*PG[0]\n",
        "                    PGy2 = PG[1]*PG[1]\n",
        "                    PGz2 = PG[2]*PG[2]\n",
        "\n",
        "                    q = molecule[i][k].alpha * molecule[j][l].alpha / p\n",
        "                    Q = molecule[i][k].coordinates - molecule[j][l].coordinates\n",
        "                    Q2 = np.dot(Q,Q)\n",
        "                \n",
        "                    s = math.exp(-q*Q2) * (math.pi/p)**(3/2) * N * cacb\n",
        "                    \n",
        "                    T[i,j] += 3.0 * molecule[j][l].alpha * s\n",
        "                    T[i,j] -= 2.0 * molecule[j][l].alpha * molecule[j][l].alpha * s * (PGx2 + 0.5/p)\n",
        "                    T[i,j] -= 2.0 * molecule[j][l].alpha * molecule[j][l].alpha * s * (PGy2 + 0.5/p)\n",
        "                    T[i,j] -= 2.0 * molecule[j][l].alpha * molecule[j][l].alpha * s * (PGz2 + 0.5/p)\n",
        "\n",
        "    return T                             "
      ],
      "metadata": {
        "id": "6EcFI9W8M0Yu"
      },
      "execution_count": 5,
      "outputs": []
    },
    {
      "cell_type": "markdown",
      "source": [
        "Computing electron nuclear attraction"
      ],
      "metadata": {
        "id": "Ne30GNOel02P"
      }
    },
    {
      "cell_type": "code",
      "source": [
        "def boys(x,n):\n",
        "    if x == 0:\n",
        "        return 1.0/(2*n+1)\n",
        "    else:\n",
        "        return special.gammainc(n+0.5,x) * special.gamma(n+0.5) * (1.0/(2*x**(n+0.5)))\n",
        "    \n",
        "\n",
        "def electron_nuclear_attraction(molecule, Z):\n",
        "    \n",
        "    natoms = len(Z)\n",
        "    nbasis = len(molecule)   \n",
        "    \n",
        "    coordinates = []\n",
        "    for i in range(nbasis):\n",
        "        nprimitives_i = len(molecule[i])\n",
        "        for j in range(nprimitives_i):\n",
        "            coordinates.append(molecule[i][j].coordinates )\n",
        "\n",
        "    coordinates = np.array(coordinates)\n",
        "    coordinates = np.unique(coordinates, axis=0)\n",
        "    \n",
        "    V_ne = np.zeros([nbasis, nbasis])\n",
        " \n",
        "    for atom in range(natoms):\n",
        "        for i in range(nbasis):\n",
        "            for j in range(nbasis):\n",
        "\n",
        "                nprimitives_i = len(molecule[i])\n",
        "                nprimitives_j = len(molecule[j])\n",
        "            \n",
        "                for k in range(nprimitives_i):\n",
        "                    for l in range(nprimitives_j):\n",
        "\n",
        "                        N = molecule[i][k].A * molecule[j][l].A\n",
        "                        cacb = molecule[i][k].coeff * molecule[j][l].coeff\n",
        "                    \n",
        "                        p   = molecule[i][k].alpha + molecule[j][l].alpha\n",
        "                        P   = molecule[i][k].alpha*molecule[i][k].coordinates +  molecule[j][l].alpha*molecule[j][l].coordinates\n",
        "                        Pp  = P/p\n",
        "                        \n",
        "                        PG  = P/p - coordinates[atom]\n",
        "                        \n",
        "                        PG2 = np.dot(PG,PG)\n",
        "\n",
        "                        q = molecule[i][k].alpha * molecule[j][l].alpha / p\n",
        "                        Q = molecule[i][k].coordinates - molecule[j][l].coordinates\n",
        "                        Q2 = np.dot(Q,Q)\n",
        "                    \n",
        "                        V_ne[i,j] +=  N * cacb * -Z[atom] * (2.0*math.pi/p) * math.exp(-q*Q2) * boys(p*PG2,0)                                     \n",
        "                    \n",
        "\n",
        "    return V_ne           "
      ],
      "metadata": {
        "id": "keaTy8VFTenv"
      },
      "execution_count": 6,
      "outputs": []
    },
    {
      "cell_type": "markdown",
      "source": [
        "Computing electron electron repulsion"
      ],
      "metadata": {
        "id": "Hh3bDLYyWGV2"
      }
    },
    {
      "cell_type": "code",
      "source": [
        "def electron_electron_repulsion(molecule):\n",
        "    \n",
        "    nbasis = len(molecule)   \n",
        "    \n",
        "    V_ee = np.zeros([nbasis, nbasis, nbasis, nbasis])\n",
        " \n",
        "    for i in range(nbasis):\n",
        "        for j in range(nbasis):\n",
        "            for k in range(nbasis):\n",
        "                for l in range(nbasis):\n",
        "\n",
        "                    nprimitives_i = len(molecule[i])\n",
        "                    nprimitives_j = len(molecule[j])\n",
        "                    nprimitives_k = len(molecule[k])\n",
        "                    nprimitives_l = len(molecule[l])\n",
        "            \n",
        "                    for ii in range(nprimitives_i):\n",
        "                        for jj in range(nprimitives_j):\n",
        "                            for kk in range(nprimitives_k):\n",
        "                                for ll in range(nprimitives_l):\n",
        "\n",
        "                                    N        = molecule[i][ii].A * molecule[j][jj].A * molecule[k][kk].A * molecule[l][ll].A\n",
        "                                    cicjckcl = molecule[i][ii].coeff * molecule[j][jj].coeff * \\\n",
        "                                               molecule[k][kk].coeff * molecule[l][ll].coeff\n",
        "                    \n",
        "                                    pij = molecule[i][ii].alpha + molecule[j][jj].alpha\n",
        "                                    pkl = molecule[k][kk].alpha + molecule[l][ll].alpha\n",
        "                         \n",
        "                                    Pij = molecule[i][ii].alpha*molecule[i][ii].coordinates +\\\n",
        "                                          molecule[j][jj].alpha*molecule[j][jj].coordinates\n",
        "                                    Pkl = molecule[k][kk].alpha*molecule[k][kk].coordinates +\\\n",
        "                                          molecule[l][ll].alpha*molecule[l][ll].coordinates\n",
        "                            \n",
        "                                    Ppij = Pij/pij\n",
        "                                    Ppkl = Pkl/pkl\n",
        "                                    \n",
        "                                    PpijPpkl  = Ppij - Ppkl\n",
        "                                    PpijPpkl2 = np.dot(PpijPpkl,PpijPpkl)\n",
        "                                    denom     = 1.0/pij + 1.0/pkl\n",
        "                            \n",
        "                                    qij = molecule[i][ii].alpha * molecule[j][jj].alpha / pij\n",
        "                                    qkl = molecule[k][kk].alpha * molecule[l][ll].alpha / pkl\n",
        "\n",
        "                                    Qij = molecule[i][ii].coordinates - molecule[j][jj].coordinates\n",
        "                                    Qkl = molecule[k][kk].coordinates - molecule[l][ll].coordinates\n",
        "                                    \n",
        "                                    Q2ij = np.dot(Qij,Qij)\n",
        "                                    Q2kl = np.dot(Qkl,Qkl)\n",
        "                                    \n",
        "                                    term1 = 2.0*math.pi*math.pi/(pij*pkl)\n",
        "                                    term2 = math.sqrt(  math.pi/(pij+pkl) )\n",
        "                                    term3 = math.exp(-qij*Q2ij) \n",
        "                                    term4 = math.exp(-qkl*Q2kl)\n",
        "                                                      \n",
        "                                    V_ee[i,j,k,l] += N * cicjckcl * term1 * term2 * term3 * term4 * boys(PpijPpkl2/denom,0)  # 3 more                               \n",
        "                    \n",
        "\n",
        "    return V_ee           "
      ],
      "metadata": {
        "id": "eYCQMBLvYxmj"
      },
      "execution_count": 7,
      "outputs": []
    },
    {
      "cell_type": "markdown",
      "source": [
        "Computing Nuclear Nuclear repulsion "
      ],
      "metadata": {
        "id": "pZDJUmLjTEDK"
      }
    },
    {
      "cell_type": "code",
      "source": [
        "def nuclear_nuclear_repulsion_energy(atom_coords, zlist):\n",
        "    \n",
        "    assert (len(atom_coords) == len(zlist))\n",
        "    natoms = len(zlist)\n",
        "    E_NN = 0\n",
        "    for i in range(natoms):\n",
        "        Zi = zlist[i]\n",
        "        for j in range(natoms):\n",
        "            if j > i:\n",
        "                Zj = zlist[j]\n",
        "                Rijx = atom_coords[i][0] - atom_coords[j][0]\n",
        "                Rijy = atom_coords[i][1] - atom_coords[j][1]\n",
        "                Rijz = atom_coords[i][2] - atom_coords[j][2]\n",
        "                Rijx_squared = Rijx*Rijx\n",
        "                Rijy_squared = Rijy*Rijy\n",
        "                Rijz_squared = Rijz*Rijz             \n",
        "                Rij = math.sqrt(Rijx_squared + Rijy_squared + Rijz_squared)      \n",
        "                E_NN += (Zi*Zj)/Rij\n",
        "                \n",
        "    return E_NN"
      ],
      "metadata": {
        "id": "TG-ej8SoTOgY"
      },
      "execution_count": 8,
      "outputs": []
    },
    {
      "cell_type": "markdown",
      "source": [
        "Hartree Fock SCF "
      ],
      "metadata": {
        "id": "hKOwCjFDcyRG"
      }
    },
    {
      "cell_type": "code",
      "source": [
        "def compute_G(density_matrix, Vee):\n",
        "    nbasis_functions = density_matrix.shape[0]\n",
        "    G = np.zeros((nbasis_functions, nbasis_functions))\n",
        "    for i in range(nbasis_functions):\n",
        "        for j in range(nbasis_functions):\n",
        "            for k in range(nbasis_functions):\n",
        "                for l in range(nbasis_functions):\n",
        "                    density = density_matrix[k,l]\n",
        "                    J = Vee[i,j,k,l]\n",
        "                    K = Vee[i,l,k,j]\n",
        "                    G[i,j] += density*(J-0.5*K)\n",
        "    return G\n",
        "\n",
        "\n",
        "def compute_density_matrix(mos):\n",
        "    nbasis_functions = mos.shape[0]\n",
        "    density_matrix = np.zeros((nbasis_functions, nbasis_functions))\n",
        "    # P = occ*CC_dagger\n",
        "    occupation = 2.0\n",
        "    for i in range(nbasis_functions):\n",
        "        for j in range(nbasis_functions):\n",
        "            # mo is (natomic_orbtials x nMOs)\n",
        "            for oo in range(number_occupied_orbitals):\n",
        "                C = mos[i, oo]\n",
        "                C_dagger = mos[j, oo]\n",
        "                density_matrix[i,j] += occupation * C * C_dagger \n",
        "    return density_matrix\n",
        "\n",
        "\n",
        "def compute_electronic_energy_expectation_value(density_matrix, T, Vne, G):\n",
        "    \n",
        "    Hcore = T + Vne\n",
        "    electronic_energy = 0.0\n",
        "    nbasis_functions = density_matrix.shape[0]\n",
        "    for i in range(nbasis_functions):\n",
        "        for j in range(nbasis_functions):\n",
        "            electronic_energy += density_matrix[i,j] * (Hcore[i,j] + 0.5*G[i,j])\n",
        "    return electronic_energy\n",
        "\n",
        "\n",
        "def scf_cycle(molecular_terms, scf_parameters, molecule):\n",
        "    \n",
        "    S, T, Vne, G = molecular_terms\n",
        "    tolerance, max_scf_steps = scf_parameters\n",
        "    electronic_energy = 0.0\n",
        "    nbasis_functions = len(molecule)\n",
        "    density_matrix = np.zeros((nbasis_functions, nbasis_functions))\n",
        "    \n",
        "    # 1. Enter into the SCF cycles\n",
        "    for scf_step in range(max_scf_steps):\n",
        "        \n",
        "        electronic_energy_old = electronic_energy\n",
        "        \n",
        "        # 2. Compute the 2 electron term, and add it to the 1 electron term\n",
        "        G = compute_G(density_matrix, Vee)\n",
        "        \n",
        "        # 3. Form F, make S unit, then get eigenvalues and eigenvectors - transform eigenvectors back (w.o unitS)\n",
        "        F = T + Vne + G\n",
        "        # S^{-1/2} S S^{-1/2}\n",
        "        S_inverse = linalg.inv(S)\n",
        "        S_inverse_sqrt = linalg.sqrtm(S_inverse)\n",
        "        # S^{-1/2} F S^{-1/2}\n",
        "        F_unitS = np.dot(S_inverse_sqrt, np.dot(F, S_inverse_sqrt))\n",
        "        eigenvalues, eigenvectors = linalg.eigh(F_unitS)\n",
        "        mos = np.dot(S_inverse_sqrt, eigenvectors)\n",
        "\n",
        "        # 4. Form new density matrix using MOs\n",
        "        density_matrix = compute_density_matrix(mos)\n",
        "        \n",
        "        # 5. Compute electronic_energy expectation value\n",
        "        electronic_energy = compute_electronic_energy_expectation_value(density_matrix, T, Vne, G)\n",
        "        \n",
        "        # 6. Check convergence\n",
        "        if abs(electronic_energy-electronic_energy_old) < tolerance:\n",
        "            return electronic_energy\n",
        "    \n",
        "    print(\"Warning: Convergence not met\")\n",
        "    return electronic_energy"
      ],
      "metadata": {
        "id": "pHIzXPrcbsHh"
      },
      "execution_count": 9,
      "outputs": []
    },
    {
      "cell_type": "markdown",
      "source": [
        "main prog"
      ],
      "metadata": {
        "id": "3P7lMJ7ET579"
      }
    },
    {
      "cell_type": "code",
      "source": [
        "# create many H2 molecules\n",
        "distances = [round(i*0.1,3) for i in range(4,61)]  # in unit = bohr (a.u of position)\n",
        "molecule_coordinates = [ [[0.0, 0.0, 0.0], [0.0, 0.0, distance]] for distance in distances]\n",
        "total_energies = []\n",
        "for molecule_coordinate in molecule_coordinates:\n",
        "\n",
        "    # create H2 molecule - sto-3g basis\n",
        "    H1_pg1a = primitive_gaussian(0.3425250914E+01, 0.1543289673E+00, molecule_coordinate[0], 0, 0, 0)\n",
        "    H1_pg1b = primitive_gaussian(0.6239137298E+00, 0.5353281423E+00, molecule_coordinate[0], 0, 0, 0)\n",
        "    H1_pg1c = primitive_gaussian(0.1688554040E+00, 0.4446345422E+00, molecule_coordinate[0], 0, 0, 0)\n",
        "    H2_pg1a = primitive_gaussian(0.3425250914E+01, 0.1543289673E+00, molecule_coordinate[1], 0, 0, 0)\n",
        "    H2_pg1b = primitive_gaussian(0.6239137298E+00, 0.5353281423E+00, molecule_coordinate[1], 0, 0, 0)\n",
        "    H2_pg1c = primitive_gaussian(0.1688554040E+00, 0.4446345422E+00, molecule_coordinate[1], 0, 0, 0)\n",
        "    number_occupied_orbitals = 1\n",
        "    zlist = [1.0, 1.0]\n",
        "    atom_coords = [np.array(molecule_coordinate[0]), np.array(molecule_coordinate[1])]\n",
        "    H1_1s = [H1_pg1a, H1_pg1b, H1_pg1c]\n",
        "    H2_1s = [H2_pg1a, H2_pg1b, H2_pg1c]\n",
        "    molecule = [H1_1s, H2_1s]\n",
        "    \n",
        "    # compute scf energy (electronic energy)\n",
        "    S = overlap(molecule)\n",
        "    T = kinetic(molecule)\n",
        "    Vne = electron_nuclear_attraction(molecule, [1.0, 1.0])\n",
        "    Vee = electron_electron_repulsion(molecule)\n",
        "    Enn = nuclear_nuclear_repulsion_energy(atom_coords, zlist)\n",
        "    molecular_terms = [S, T, Vne, Vee]\n",
        "    scf_parameters = [1e-5, 20]\n",
        "    electronic_energy = scf_cycle(molecular_terms, scf_parameters, molecule)\n",
        "    # compute total energy - electronic_energy + Enn\n",
        "    total_energy = electronic_energy + Enn\n",
        "    total_energies.append(total_energy)\n",
        "    \n",
        "# plot bond dissociation curve\n",
        "import matplotlib.pyplot as plt\n",
        "plt.xlabel(\"Bond distance, Angstrom\")\n",
        "plt.ylabel(\"Total Energy, Hartree\")\n",
        "plt.plot(np.array(distances)*0.529, total_energies)"
      ],
      "metadata": {
        "colab": {
          "base_uri": "https://localhost:8080/",
          "height": 296
        },
        "id": "IlKbiUXIT9Be",
        "outputId": "2c45af79-d0f5-43d5-b73e-4310a48d9e0c"
      },
      "execution_count": 11,
      "outputs": [
        {
          "output_type": "execute_result",
          "data": {
            "text/plain": [
              "[<matplotlib.lines.Line2D at 0x7f986e5934d0>]"
            ]
          },
          "metadata": {},
          "execution_count": 11
        },
        {
          "output_type": "display_data",
          "data": {
            "image/png": "[encoded data removed]",
            "text/plain": [
              "<Figure size 432x288 with 1 Axes>"
            ]
          },
          "metadata": {
            "needs_background": "light"
          }
        }
      ]
    }
  ]
}